





# Include all your imports here
import pandas as pd
from pathlib import Path
import numpy


# Load the Public school dataset
school = Path('Resources/public_school_data.csv')
data = pd.read_csv(school)
data.head()


# Load the Public school locations dataset
locations = Path('Resources/public_school_locations.csv')
locations = pd.read_csv(locations)
locations.head()


# Load the Public school data dictionary file
dict = Path('Resources/school_data_dictionary.csv')
dict = pd.read_csv(dict)
print(dict)





# Use an .isin() function to keep only fields that appear in the main public_school_data.csv and identify the unique id column 
field_df = dict[dict['Fields'].isin(data.columns)]
field_df

#Unique identifier column appears to be NCESSCH        



# Ensure the column you selected is indeed a unique identifier by checking the number of uniqe values and comparing it to the number of rows in the dataframe
print(f"The number of unique values is: {data['NCESSCH'].nunique()}")
print(f"The total number of rows in the data is {len(data.index)}")


# Change the names of the unique ID column in both the location data and public school data to match and set them as index
data.rename(columns= {'NCESSCH': 'SCHOOL_ID'},inplace=True)
locations.rename(columns= {'ID': 'SCHOOL_ID'},inplace=True)


data.set_index('SCHOOL_ID', inplace=True)
locations.set_index('SCHOOL_ID', inplace=True)


# Check your work
data.head()


# Check your work
locations.head()


# Join the location and data dataframes together
frames = [data, locations]
combined_data = pd.concat(frames, axis=1, join='inner')

combined_data.head()


# Get the value counts for the school type column
combined_data['SCHOOL_TYPE_TEXT'].value_counts()


# Create a subset of the dataframe that only includes regular schools ensure it was successful by comparing rows in the subset to the value counts above
reg_schools = combined_data.loc[combined_data['SCHOOL_TYPE_TEXT'] == 'Regular school']
reg_schools.shape





# Check for nulls and determine the best approach for dealing with them
reg_schools.isnull().sum()


# Fill some of the columns with 0 where it makes sense
### Filling demographic columns with 0 ###

#Creating new data frame
clean_schools = reg_schools

clean_schools.loc[:,("AM","AS","BL","HP","HI","TR","WH")] = clean_schools.loc[:,("AM","AS","BL","HP","HI","TR","WH")].fillna(0)




# Verify changes to nulls and prepare to drop na
clean_schools.isnull().sum()


# Drop remaining nulls wher it would make sense
schools_df = clean_schools.dropna()


# Verify changes to nulls and no nulls should remain
schools_df.isnull().sum()





# Plot a histogram of Total enrolled students and check for outliers
schools_df['TOTAL'].plot(kind='hist', bins=100)


# Plot a histogram of Total Teachers and check for outliers
schools_df['FTE'].plot(kind='hist', bins=100)


# Plot a histogram of Student Teacher Ratio and check for outliers
schools_df['STUTERATIO'].plot(kind='hist', bins=100)


# Re-Plot a histogram of Total enrolled students after removing 0s and outliers above the 99th quantile
tqhigh = schools_df['TOTAL'].quantile(0.99)
total_filtered = schools_df[(schools_df['TOTAL'] > 0) & (schools_df['TOTAL'] <= tqhigh)]

total_filtered['TOTAL'].plot(kind='hist', bins=100)


# Re-Plot a histogram of Total Teachers after removing 0s and outliers above the 99th quantile
fte_qhigh = schools_df['FTE'].quantile(0.99)
fte_filtered = schools_df[(schools_df['FTE'] > 0) & (schools_df['FTE'] <= fte_qhigh)]

fte_filtered['FTE'].plot(kind='hist', bins=100)


# Re-Plot a histogram of Student Teacher Ratio after removing 0s and outliers above the 99th quantile
ste_qhigh = schools_df['STUTERATIO'].quantile(0.99)
ratio_filtered = schools_df[(schools_df['STUTERATIO'] > 0) & (schools_df['STUTERATIO'] <= ste_qhigh)]

ratio_filtered['STUTERATIO'].plot(kind='hist', bins=100)





# Use seaborn to generate a correlation heatmap for the columns in the dataframe
import seaborn as sns


correlations = schools_df[["TOTAL","FTE","STUTERATIO","AM","AS","BL","HP","HI","TR","WH","LATCOD","LONCOD"]].corr()
correlations
sns.heatmap(correlations, vmin=-1, vmax=1)






# Plot only schools from the 48 contiguous US states or the 50 US states (drop territories and PR)
#schools_df['LSTATE'].unique()

fifty_states = ['AL', 'AK', 'AZ', 'AR', 'CA', 'CO', 'CT', 'DE', 'DC', 'MD', 'FL',
       'GA', 'HI', 'ID', 'OR', 'IL', 'IN', 'IA', 'KS', 'KY', 'LA', 'ME',
       'MA', 'MI', 'MN', 'MS', 'MO', 'MT', 'NE', 'NV', 'NH', 'NJ', 'NM',
       'NY', 'NC', 'ND', 'OH', 'OK', 'PA', 'RI', 'SC', 'SD', 'TN', 'TX',
      'UT', 'VT', 'VA', 'WA', 'WV', 'WI', 'WY']

fifty_states_df = schools_df.query('LSTATE in @fifty_states')
fifty_states_df.describe(include ='all')
fifty_states_df.plot.scatter(['LONCOD'], ['LATCOD'],figsize=(20,15))



# Plot only schools in your state
idaho = ['ID']
idaho_df = schools_df.query('LSTATE in @idaho')

idaho_df.plot.scatter(['LONCOD'], ['LATCOD'],figsize=(10,10))



## Student/Teacher Ratio in Idaho
ratio_filtered.groupby('LSTATE').mean('STUTERATIO').loc('LSTATE' == 'ID')





# Use the dataframe that has filtered out the outliers in Student Teacher Ratio and group by state and get the average
# Show the highest 5 Student/Teacher ratios and lowest 5 Student/Teacher ratios as well as the average for your state



# What is the mean of the Student/Teacher Ratio
ratio_mean = round(ratio_filtered['STUTERATIO'].mean(),2)

print(f"The overall Student/Teacher Ratio Mean is {ratio_mean}")


# What is the standard deviation of the Student/Teacher Ratio
ratio_sd = round(ratio_filtered['STUTERATIO'].std(),2)

print(f"The standard deviation for the Student/Teacher Ratio is {ratio_sd}")


# Plot the states ratios in descending order
state_ratios = ratio_filtered.groupby('LSTATE').mean('STUTERATIO')
state_ratios.sort_values(by=['STUTERATIO'],ascending=False,inplace=True)
state_ratios['STUTERATIO'].plot(kind='bar',figsize=(15,5), ylabel='Student/Teacher Ratio', xlabel='State', title='Student/Teacher Ratios by State')


# Plot a boxplot of the Student/Teacher Ratios
state_ratios['STUTERATIO'].plot(kind='box')


# List or Plot the Highest 5 states
print(state_ratios['STUTERATIO'].head())
state_ratios['STUTERATIO'].head().plot(kind='bar')


# List or plot the lowest 5
print(state_ratios['STUTERATIO'].tail())
state_ratios['STUTERATIO'].tail().plot(kind='bar')


# Print your state's Student Teacher Ratios
print(f"The Student/Teacher Ratio for Idaho is {round(state_ratios.loc['ID','STUTERATIO'],2)}")





#combined_data['LSTATE'].unique()
illinois = reg_schools.loc[reg_schools['LSTATE'] == 'IL']
illinois
#schools_df['LSTATE'].unique()





# Your code below

